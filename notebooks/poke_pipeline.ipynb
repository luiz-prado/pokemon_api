{
 "cells": [
  {
   "cell_type": "code",
   "execution_count": 1,
   "metadata": {},
   "outputs": [],
   "source": [
    "import requests\n",
    "import datetime\n",
    "import json"
   ]
  },
  {
   "cell_type": "code",
   "execution_count": 21,
   "metadata": {},
   "outputs": [],
   "source": [
    "class Collector:\n",
    "\n",
    "    def __init__(self, url):\n",
    "        self.url = url\n",
    "        self.instance = url.strip('/').split('/')[-1]\n",
    "\n",
    "    def get_endpoint(self, **kwargs):\n",
    "        resp = requests.get(self.url, params=kwargs)\n",
    "        return resp\n",
    "    \n",
    "    def save_data(self, data):\n",
    "        now = datetime.datetime.now().strftime('%Y%m%d_%H%M%S.%f')\n",
    "        data['created_at'] = datetime.datetime.now().strftime('%Y-%m-%d %H:%M:%S')\n",
    "        filename = f'..\\data\\{self.instance}_{now}.json'\n",
    "\n",
    "        with open(filename, 'w') as f:\n",
    "            json.dump(data, f)\n",
    "    \n",
    "    def get_and_save(self, **kwargs):\n",
    "        resp = self.get_endpoint(**kwargs)\n",
    "        if resp.status_code == 200:\n",
    "            data = resp.json()\n",
    "            self.save_data(data)\n",
    "\n",
    "            return data\n",
    "        \n",
    "        else:\n",
    "            return {}\n",
    "    \n",
    "    def auto_exec(self, limit=100):\n",
    "        offset = 0\n",
    "\n",
    "        while True:\n",
    "            print(offset)\n",
    "            data = self.get_and_save(limit=limit, offset=offset)\n",
    "\n",
    "            if data['next'] == None:\n",
    "                break\n",
    "\n",
    "            offset += limit"
   ]
  },
  {
   "cell_type": "code",
   "execution_count": 22,
   "metadata": {},
   "outputs": [
    {
     "name": "stdout",
     "output_type": "stream",
     "text": [
      "0\n",
      "100\n",
      "200\n",
      "300\n",
      "400\n",
      "500\n",
      "600\n",
      "700\n",
      "800\n",
      "900\n",
      "1000\n",
      "1100\n",
      "1200\n",
      "1300\n"
     ]
    }
   ],
   "source": [
    "url = 'https://pokeapi.co/api/v2/pokemon/'\n",
    "\n",
    "collector = Collector(url)\n",
    "collector.auto_exec()"
   ]
  }
 ],
 "metadata": {
  "kernelspec": {
   "display_name": "Python 3",
   "language": "python",
   "name": "python3"
  },
  "language_info": {
   "codemirror_mode": {
    "name": "ipython",
    "version": 3
   },
   "file_extension": ".py",
   "mimetype": "text/x-python",
   "name": "python",
   "nbconvert_exporter": "python",
   "pygments_lexer": "ipython3",
   "version": "3.10.11"
  }
 },
 "nbformat": 4,
 "nbformat_minor": 2
}
